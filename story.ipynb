{
  "nbformat": 4,
  "nbformat_minor": 0,
  "metadata": {
    "colab": {
      "provenance": []
    },
    "kernelspec": {
      "name": "python3",
      "display_name": "Python 3"
    },
    "language_info": {
      "name": "python"
    }
  },
  "cells": [
    {
      "cell_type": "code",
      "source": [
        "import random\n",
        "\n",
        "# Define some characters, settings, and plots\n",
        "characters = [\n",
        "    \"a brave knight named Sir Cedric\",\n",
        "    \"a clever princess named Elara\",\n",
        "    \"a sneaky thief named Finn\",\n",
        "    \"a wise old wizard named Alaric\",\n",
        "    \"a fierce dragon named Drakon\"\n",
        "]\n",
        "\n",
        "settings = [\n",
        "    \"in a dark forest shrouded in mist\",\n",
        "    \"in a bustling city filled with vibrant markets\",\n",
        "    \"on a faraway island surrounded by mysterious waters\",\n",
        "    \"in a mystical castle perched atop a high mountain\",\n",
        "    \"in a small village nestled in a valley\"\n",
        "]\n",
        "\n",
        "plots = [\n",
        "    \"must find a hidden treasure rumored to grant immense power.\",\n",
        "    \"is on a quest to save the kingdom from an ancient curse.\",\n",
        "    \"has to solve a mystery surrounding a missing artifact.\",\n",
        "    \"is searching for their lost friend who vanished without a trace.\",\n",
        "    \"battles against invaders trying to conquer their home.\"\n",
        "]\n",
        "\n",
        "# Function to generate a random story\n",
        "def generate_story():\n",
        "    character = random.choice(characters)\n",
        "    setting = random.choice(settings)\n",
        "    plot = random.choice(plots)\n",
        "\n",
        "    # Build the story in paragraphs\n",
        "    paragraph1 = f\"Once upon a time, {character} lived {setting} \"\n",
        "    paragraph2 = f\"One day, {character} decided they could no longer ignore their fate. They {plot}\"\n",
        "    paragraph3 = \"With determination in their heart and a sense of adventure in their spirit, they set off on their journey.\"\n",
        "\n",
        "    story = f\"{paragraph1}\\n\\n{paragraph2}\\n\\n{paragraph3}\"\n",
        "    return story\n",
        "\n",
        "# Generate and print the story\n",
        "if __name__ == \"__main__\":\n",
        "    print(\"Welcome to the Story Teller!\")\n",
        "    print(\"Here's your story:\")\n",
        "    print(generate_story())"
      ],
      "metadata": {
        "colab": {
          "base_uri": "https://localhost:8080/"
        },
        "id": "D6w35KYICzNi",
        "outputId": "7cd6bc48-6c1b-48fb-e795-7ba8360e51a2"
      },
      "execution_count": 5,
      "outputs": [
        {
          "output_type": "stream",
          "name": "stdout",
          "text": [
            "Welcome to the Story Teller!\n",
            "Here's your story:\n",
            "Once upon a time, a fierce dragon named Drakon lived in a dark forest shrouded in mist \n",
            "\n",
            "One day, a fierce dragon named Drakon decided they could no longer ignore their fate. They battles against invaders trying to conquer their home.\n",
            "\n",
            "With determination in their heart and a sense of adventure in their spirit, they set off on their journey.\n"
          ]
        }
      ]
    }
  ]
}